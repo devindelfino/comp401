{
 "cells": [
  {
   "cell_type": "code",
   "execution_count": 21,
   "metadata": {
    "collapsed": false
   },
   "outputs": [
    {
     "name": "stdout",
     "output_type": "stream",
     "text": [
      "(-0.12-0.77j)\n",
      "finding julia set\n",
      "\n",
      "plotting julia set\n",
      "\n"
     ]
    },
    {
     "data": {
      "image/png": "[encoded data removed]",
      "text/plain": [
       "<matplotlib.figure.Figure at 0x10f5ea350>"
      ]
     },
     "metadata": {},
     "output_type": "display_data"
    }
   ],
   "source": [
    "# %load julia.py\n",
    "import matplotlib.pyplot as plt\n",
    "import numpy as np\n",
    "\n",
    "def make_complex(real, imag):\n",
    "    complex_points = [[0 for r in range(len(real))] for c in range(len(imag))]\n",
    "\n",
    "    for row in range(0, len(real)-1):\n",
    "    \tfor col in range(0, len(imag)-1):\n",
    "    \t\tcomplex_points[row][col] = complex(real[row], imag[col])\n",
    "    \t#endfor\n",
    "    #endfor\n",
    "\n",
    "    return complex_points\n",
    "#endfunction\n",
    "\n",
    "def julia(z, c, n):\n",
    "\tit = 0\n",
    "\tjpoint = z\n",
    "\twhile((it < n) and (abs(jpoint) <= 2)):\n",
    "\t\tjpoint = pow(jpoint,2) + c\n",
    "\t\tit = it + 1\n",
    "\t#endwhile\n",
    "\n",
    "\treturn jpoint\n",
    "#endfunction\n",
    "\n",
    "def make_julia_fractal(c_real, c_imag, range_real, range_imag, incr_real, incr_imag):\n",
    "\titerations = 40\n",
    "\tc = complex(c_real, c_imag)\n",
    "\tprint c\n",
    "\treals = list(np.arange(-range_real, range_real, incr_real))\n",
    "\timaginaries = list(np.arange(-range_imag, range_imag, incr_imag))\n",
    "\n",
    "\tcomplex_points = make_complex(reals,imaginaries)\n",
    "\n",
    "\tjulia_real = [0 for x in range(len(reals)*len(imaginaries))]\n",
    "\tjulia_imag = [0 for x in range(len(reals)*len(imaginaries))]\n",
    "\n",
    "\tprint \"finding julia set\\n\"\n",
    "\tit = 0\n",
    "\tfor row in range(0,len(reals)):\n",
    "\t\tfor col in range(0,len(imaginaries)):\n",
    "\t\t\tjuliapoint = julia(complex_points[row][col], c, iterations)\n",
    "\t\t\tif(abs(juliapoint) <= 2):\n",
    "\t\t\t\tjulia_real[it] = juliapoint.real\n",
    "\t\t\t\tjulia_imag[it] = juliapoint.imag\n",
    "\t\t\t#endif\n",
    "\t\t\tit = it + 1\n",
    "\t\t#endfor\n",
    "\t#endfor\n",
    "\tprint \"plotting julia set\\n\"\n",
    "\tplt.scatter(julia_real, julia_imag,s=0.001)\n",
    "\tplt.xlim(-2, 2)\n",
    "  \tplt.ylim(-2, 2)\n",
    "\n",
    "#endfunction\n",
    "\n",
    "def main():\n",
    "\tc_real = -0.12\n",
    "\tc_imag = -0.77\n",
    "\trange_real = 2\n",
    "\trange_imag = j\n",
    "\tincr_real = 0.001\n",
    "\tincr_imag = 0.001\n",
    "\n",
    "\tmake_julia_fractal(c_real, c_imag, range_real, range_imag, incr_real, incr_imag)\n",
    "#endmain\n",
    "\n",
    "if __name__ == '__main__':\n",
    "\tmain()\n",
    "\n",
    "\n"
   ]
  },
  {
   "cell_type": "code",
   "execution_count": null,
   "metadata": {
    "collapsed": true
   },
   "outputs": [],
   "source": []
  },
  {
   "cell_type": "code",
   "execution_count": null,
   "metadata": {
    "collapsed": true
   },
   "outputs": [],
   "source": []
  }
 ],
 "metadata": {
  "kernelspec": {
   "display_name": "Python 2",
   "language": "python",
   "name": "python2"
  },
  "language_info": {
   "codemirror_mode": {
    "name": "ipython",
    "version": 2
   },
   "file_extension": ".py",
   "mimetype": "text/x-python",
   "name": "python",
   "nbconvert_exporter": "python",
   "pygments_lexer": "ipython2",
   "version": "2.7.5"
  }
 },
 "nbformat": 4,
 "nbformat_minor": 0
}
